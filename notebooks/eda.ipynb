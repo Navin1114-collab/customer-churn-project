# Import libraries
import pandas as pd
import matplotlib.pyplot as plt
import seaborn as sns

# Load data
df = pd.read_csv("C:\Users\navin\customer-churn-project\data\WA_Fn-UseC_-Telco-Customer-Churn.csv")

# Display first 5 rows
df.head()